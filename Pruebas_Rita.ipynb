{
 "cells": [
  {
   "cell_type": "code",
   "execution_count": 1,
   "id": "42a96216",
   "metadata": {},
   "outputs": [],
   "source": [
    "import tkinter as tk"
   ]
  },
  {
   "cell_type": "code",
   "execution_count": 6,
   "id": "8b7eb9fe",
   "metadata": {},
   "outputs": [],
   "source": [
    "#Creamos la ventana\n",
    "ventana =  tk.Tk()\n",
    "\n",
    "# Agregamos título de la ventana, tamaño y color de fondo a la ventana\n",
    "ventana.title(\"Café El Economista\")\n",
    "ventana.geometry(\"1000x1000\")\n",
    "ventana.config(bg=\"LightCyan2\")\n",
    "\n",
    "# Agregamos titulo principal\n",
    "etiqueta = tk.Label(ventana, text=\"Caja de El Economista\", bg=\"LightCyan2\", font=(\"Helvetica\", 24))\n",
    "etiqueta.pack(pady=20)\n",
    "\n",
    "# Crear etiqueta ingresar nit del cliente\n",
    "etiqueta = tk.Label(ventana, text=\"Nit del cliente:\", bg=\"LightCyan2\", font=(\"Helvetica\", 16))\n",
    "etiqueta.pack()\n",
    "\n",
    "# Caja de texto\n",
    "entrada = tk.Entry(ventana)\n",
    "entrada.pack()\n",
    "\n",
    "# Botón\n",
    "# boton = tk.Button(ventana, text= \"Saludar\", command=saludar)\n",
    "# boton.pack(pady=10)\n",
    "\n",
    "def nit():\n",
    "    nombre = entrada.get()\n",
    "    etiqueta_resultado.config(text=f\"Hola, {nombre}!\")\n",
    "\n",
    "# Despliega la interfaz\n",
    "ventana.mainloop()\n",
    "\n"
   ]
  }
 ],
 "metadata": {
  "kernelspec": {
   "display_name": "base",
   "language": "python",
   "name": "python3"
  },
  "language_info": {
   "codemirror_mode": {
    "name": "ipython",
    "version": 3
   },
   "file_extension": ".py",
   "mimetype": "text/x-python",
   "name": "python",
   "nbconvert_exporter": "python",
   "pygments_lexer": "ipython3",
   "version": "3.13.5"
  }
 },
 "nbformat": 4,
 "nbformat_minor": 5
}
