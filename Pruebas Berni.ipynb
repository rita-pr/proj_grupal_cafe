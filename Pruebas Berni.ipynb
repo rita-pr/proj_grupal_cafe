{
 "cells": [
  {
   "cell_type": "code",
   "execution_count": 46,
   "id": "25dd5cba",
   "metadata": {},
   "outputs": [
    {
     "name": "stderr",
     "output_type": "stream",
     "text": [
      "Exception in Tkinter callback\n",
      "Traceback (most recent call last):\n",
      "  File \"c:\\Users\\ACER\\miniconda3\\Lib\\tkinter\\__init__.py\", line 2068, in __call__\n",
      "    return self.func(*args)\n",
      "           ~~~~~~~~~^^^^^^^\n",
      "  File \"C:\\Users\\ACER\\AppData\\Local\\Temp\\ipykernel_14364\\352000155.py\", line 20, in saludar\n",
      "    etiqueta_resultado.config(text=f\"Hola, {nombre}!\")\n",
      "    ~~~~~~~~~~~~~~~~~~~~~~~~~^^^^^^^^^^^^^^^^^^^^^^^^^\n",
      "  File \"c:\\Users\\ACER\\miniconda3\\Lib\\tkinter\\__init__.py\", line 1822, in configure\n",
      "    return self._configure('configure', cnf, kw)\n",
      "           ~~~~~~~~~~~~~~~^^^^^^^^^^^^^^^^^^^^^^\n",
      "  File \"c:\\Users\\ACER\\miniconda3\\Lib\\tkinter\\__init__.py\", line 1812, in _configure\n",
      "    self.tk.call(_flatten((self._w, cmd)) + self._options(cnf))\n",
      "    ~~~~~~~~~~~~^^^^^^^^^^^^^^^^^^^^^^^^^^^^^^^^^^^^^^^^^^^^^^^\n",
      "_tkinter.TclError: invalid command name \".!label2\"\n"
     ]
    }
   ],
   "source": [
    "#Importamos la libreria tkinter, ya \n",
    "import tkinter as tk\n",
    "\n",
    "#Creamos la ventana\n",
    "ventana =  tk.Tk()\n",
    "\n",
    "# Agregamos título de la ventana, tamaño y color de fondo a la ventana\n",
    "ventana.title(\"Café El Economista\")\n",
    "ventana.geometry(\"1000x1000\")\n",
    "ventana.config(bg=\"LightCyan2\")\n",
    "\n",
    "# Agregamos titulo principal\n",
    "etiqueta = tk.Label(ventana, text=\"Caja de El Economista\", bg=\"LightCyan2\", font=(\"Helvetica\", 24))\n",
    "etiqueta.pack(pady=20)\n",
    "\n",
    "# Crear etiqueta ingresar nit del cliente\n",
    "etiqueta = tk.Label(ventana, text=\"Nit del cliente:\", bg=\"LightCyan2\", font=(\"Helvetica\", 16))\n",
    "etiqueta.pack()\n",
    "\n",
    "# Caja de texto\n",
    "entrada = tk.Entry(ventana)\n",
    "entrada.pack()\n",
    "\n",
    "# Botón\n",
    "boton = tk.Button(ventana, text=\"Saludar\", command=saludar)\n",
    "boton.pack(pady=10)\n",
    "\n",
    "def nit():\n",
    "    nombre = entrada.get()\n",
    "    etiqueta_resultado.config(text=f\"Hola, {nombre}!\")\n",
    "\n",
    "# Despliega la interfaz\n",
    "ventana.mainloop()\n",
    "\n"
   ]
  },
  {
   "cell_type": "code",
   "execution_count": 36,
   "id": "bf164188",
   "metadata": {},
   "outputs": [],
   "source": [
    "import tkinter as tk\n",
    "\n",
    "# Crear ventana\n",
    "ventana = tk.Tk()\n",
    "ventana.title(\"Cafetería El Economista\")\n",
    "ventana.geometry(\"700x1000\")\n",
    "ventana.config(bg=\"alice blue\")\n",
    "\n",
    "# Crear etiqueta\n",
    "etiqueta = tk.Label(ventana, text=\"Escribe tu nombre:\")\n",
    "etiqueta.pack()\n",
    "\n",
    "# Caja de texto\n",
    "entrada = tk.Entry(ventana)\n",
    "entrada.pack()\n",
    "\n",
    "# Función para el botón\n",
    "def saludar():\n",
    "    nombre = entrada.get()\n",
    "    etiqueta_resultado.config(text=f\"Hola, {nombre}!\")\n",
    "\n",
    "# Botón\n",
    "boton = tk.Button(ventana, text=\"Saludar\", command=saludar)\n",
    "boton.pack()\n",
    "\n",
    "# Etiqueta de resultado\n",
    "etiqueta_resultado = tk.Label(ventana, text=\"\")\n",
    "etiqueta_resultado.pack()\n",
    "\n",
    "# Bucle principal\n",
    "ventana.mainloop()\n"
   ]
  }
 ],
 "metadata": {
  "kernelspec": {
   "display_name": "base",
   "language": "python",
   "name": "python3"
  },
  "language_info": {
   "codemirror_mode": {
    "name": "ipython",
    "version": 3
   },
   "file_extension": ".py",
   "mimetype": "text/x-python",
   "name": "python",
   "nbconvert_exporter": "python",
   "pygments_lexer": "ipython3",
   "version": "3.13.5"
  }
 },
 "nbformat": 4,
 "nbformat_minor": 5
}
